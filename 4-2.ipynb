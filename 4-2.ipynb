{
 "cells": [
  {
   "cell_type": "markdown",
   "id": "296f1125-5ecb-4fec-9df5-bae561c051ef",
   "metadata": {},
   "source": [
    "## 확률적 경사 하강법"
   ]
  },
  {
   "cell_type": "markdown",
   "id": "481e8d02-5b40-4c8e-b438-06a53ec8a9a7",
   "metadata": {},
   "source": [
    "### 확률적 경사 하강법\n",
    "- 기울기를 따라 내려가"
   ]
  },
  {
   "cell_type": "code",
   "execution_count": 1,
   "id": "a666caad-56e7-4f72-8e12-80eee767e273",
   "metadata": {},
   "outputs": [],
   "source": [
    "# 데이터 불러오기\n",
    "import pandas as pd\n",
    "\n",
    "df = pd.read_csv('data/Fish.csv')"
   ]
  },
  {
   "cell_type": "code",
   "execution_count": 2,
   "id": "d12c2f12-d98b-4a64-93bb-9e7e97e39c6f",
   "metadata": {},
   "outputs": [],
   "source": [
    "fish_input = df[['Weight', 'Length2', 'Length3', 'Height', 'Width']]\n",
    "fish_target = df['Species']"
   ]
  },
  {
   "cell_type": "code",
   "execution_count": 3,
   "id": "e4bed2ac-cf8f-402e-b71f-6e64af6663f3",
   "metadata": {},
   "outputs": [],
   "source": [
    "# 훈련/테스트 셋 구분\n",
    "from sklearn.model_selection import train_test_split\n",
    "\n",
    "train_input, test_input, train_target, test_target = train_test_split(fish_input, fish_target)"
   ]
  },
  {
   "cell_type": "code",
   "execution_count": 4,
   "id": "aec40a4b-8238-48e1-9af7-87185e2e1bb0",
   "metadata": {},
   "outputs": [],
   "source": [
    "# 정규화\n",
    "from sklearn.preprocessing import StandardScaler\n",
    "ss = StandardScaler()\n",
    "ss.fit(train_input)\n",
    "train_scaled = ss.transform(train_input)\n",
    "test_scaled = ss.transform(test_input)"
   ]
  },
  {
   "cell_type": "code",
   "execution_count": 7,
   "id": "3f7ba31e-d02e-4529-b4bf-5538524a51a0",
   "metadata": {},
   "outputs": [
    {
     "name": "stdout",
     "output_type": "stream",
     "text": [
      "0.8487394957983193\n",
      "0.8\n"
     ]
    }
   ],
   "source": [
    "# 사이킷런에서 확률적 경사 하강법을 제공하는 분류용 클래스\n",
    "from sklearn.linear_model import SGDClassifier\n",
    "# 2개의 매개변수 지정: loss->손실함수의 종류 지정, max_iter-> 수행할 에포크 횟수 지정\n",
    "# log_loss 방식 활용. 100번 반복해 100개의 그래프 그리겠단 것 \n",
    "# loss 기본값: hinge | loss, max_iter 값 조정해서 최적 옵션 설정\n",
    "sc = SGDClassifier(loss= 'log_loss', max_iter=100)\n",
    "sc.fit(train_scaled, train_target)\n",
    "\n",
    "print(sc.score(train_scaled, train_target))\n",
    "print(sc.score(test_scaled, test_target))\n",
    "      "
   ]
  },
  {
   "cell_type": "code",
   "execution_count": 8,
   "id": "6fef0bb5-8d6a-4fbf-a96b-83c6e4763de8",
   "metadata": {},
   "outputs": [
    {
     "name": "stdout",
     "output_type": "stream",
     "text": [
      "0.8907563025210085\n",
      "0.9\n"
     ]
    }
   ],
   "source": [
    "# 100번 반복한 것 또 다시 이어서 반복 >> 총 200번\n",
    "sc.partial_fit(train_scaled, train_target)\n",
    "print(sc.score(train_scaled, train_target))\n",
    "print(sc.score(test_scaled, test_target))"
   ]
  },
  {
   "cell_type": "code",
   "execution_count": null,
   "id": "78d64281-09dd-4470-b12e-9456e5a7b7df",
   "metadata": {},
   "outputs": [],
   "source": []
  }
 ],
 "metadata": {
  "kernelspec": {
   "display_name": "Python 3 (ipykernel)",
   "language": "python",
   "name": "python3"
  },
  "language_info": {
   "codemirror_mode": {
    "name": "ipython",
    "version": 3
   },
   "file_extension": ".py",
   "mimetype": "text/x-python",
   "name": "python",
   "nbconvert_exporter": "python",
   "pygments_lexer": "ipython3",
   "version": "3.13.2"
  }
 },
 "nbformat": 4,
 "nbformat_minor": 5
}
