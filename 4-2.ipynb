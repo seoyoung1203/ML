{
 "cells": [
  {
   "cell_type": "markdown",
   "id": "296f1125-5ecb-4fec-9df5-bae561c051ef",
   "metadata": {},
   "source": [
    "## 확률적 경사 하강법"
   ]
  },
  {
   "cell_type": "markdown",
   "id": "481e8d02-5b40-4c8e-b438-06a53ec8a9a7",
   "metadata": {},
   "source": [
    "### 확률적 경사 하강법\n",
    "- 기울기를 따라 내려가"
   ]
  },
  {
   "cell_type": "code",
   "execution_count": 2,
   "id": "a666caad-56e7-4f72-8e12-80eee767e273",
   "metadata": {},
   "outputs": [],
   "source": [
    "import pandas as pd\n",
    "\n",
    "df = pd.read_csv('data/Fish.csv')"
   ]
  },
  {
   "cell_type": "code",
   "execution_count": 9,
   "id": "d12c2f12-d98b-4a64-93bb-9e7e97e39c6f",
   "metadata": {},
   "outputs": [],
   "source": [
    "fish_input = df[['Weight', 'Length2', 'Length3', 'Height', 'Width']]\n",
    "fish_target = df['Species']"
   ]
  },
  {
   "cell_type": "code",
   "execution_count": 10,
   "id": "e4bed2ac-cf8f-402e-b71f-6e64af6663f3",
   "metadata": {},
   "outputs": [],
   "source": [
    "from sklearn.model_selection import train_test_split\n",
    "\n",
    "train_input, test_input, train_target, test_target = train_test_split(fish_input, fish_target)"
   ]
  },
  {
   "cell_type": "code",
   "execution_count": 11,
   "id": "aec40a4b-8238-48e1-9af7-87185e2e1bb0",
   "metadata": {},
   "outputs": [],
   "source": [
    "from sklearn.preprocessing import StandardScaler\n",
    "ss = StandardScaler()\n",
    "ss.fit(train_input)\n",
    "train_scaled = ss.transform(train_input)\n",
    "test_scaled = ss.transform(test_input)"
   ]
  },
  {
   "cell_type": "code",
   "execution_count": null,
   "id": "3f7ba31e-d02e-4529-b4bf-5538524a51a0",
   "metadata": {},
   "outputs": [],
   "source": []
  }
 ],
 "metadata": {
  "kernelspec": {
   "display_name": "Python 3 (ipykernel)",
   "language": "python",
   "name": "python3"
  },
  "language_info": {
   "codemirror_mode": {
    "name": "ipython",
    "version": 3
   },
   "file_extension": ".py",
   "mimetype": "text/x-python",
   "name": "python",
   "nbconvert_exporter": "python",
   "pygments_lexer": "ipython3",
   "version": "3.13.2"
  }
 },
 "nbformat": 4,
 "nbformat_minor": 5
}
